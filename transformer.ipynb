{
  "nbformat": 4,
  "nbformat_minor": 0,
  "metadata": {
    "colab": {
      "provenance": [],
      "authorship_tag": "ABX9TyNG5nFW/oKi3LU1Yh4Grjrs",
      "include_colab_link": true
    },
    "kernelspec": {
      "name": "python3",
      "display_name": "Python 3"
    },
    "language_info": {
      "name": "python"
    }
  },
  "cells": [
    {
      "cell_type": "markdown",
      "metadata": {
        "id": "view-in-github",
        "colab_type": "text"
      },
      "source": [
        "<a href=\"https://colab.research.google.com/github/gudellivaishnavi/python/blob/main/transformer.ipynb\" target=\"_parent\"><img src=\"https://colab.research.google.com/assets/colab-badge.svg\" alt=\"Open In Colab\"/></a>"
      ]
    },
    {
      "cell_type": "code",
      "execution_count": null,
      "metadata": {
        "id": "UawSrsQCIJ0B"
      },
      "outputs": [],
      "source": [
        "\n",
        " def oc(vo,io,wo):\n",
        "  import math\n",
        "  npf=wo/(vo*io)\n",
        "  iw=io*npf\n",
        "  imv=io*math.sqrt(1-npf**2)\n",
        "  ro=vo/iw\n",
        "  xo=vo/imv\n",
        "  return ro,xo\n"
      ]
    },
    {
      "cell_type": "code",
      "source": [
        "def sc(vsc,isc,ws):\n",
        "  import math\n",
        "  rhv=ws/(isc**2)\n",
        "  zhv=vsc/isc\n",
        "  xhv=math.sqrt(zhv*2-rhv*2)\n",
        "  return rhv,xhv\n"
      ],
      "metadata": {
        "id": "FKuXDYtZMcNF"
      },
      "execution_count": 1,
      "outputs": []
    },
    {
      "cell_type": "code",
      "source": [
        "def eff(r,wo,wsc,x,pf):\n",
        "  efficiency=(x*r*pf*100)/(x*r*pf+wo+(x**2)*wsc)\n",
        "  xcu=wsc*(x**2)\n",
        "  return efficiency,xcu"
      ],
      "metadata": {
        "id": "achrvrkJMvLI"
      },
      "execution_count": null,
      "outputs": []
    },
    {
      "cell_type": "code",
      "source": [],
      "metadata": {
        "id": "-E3AYKOwXwmS"
      },
      "execution_count": null,
      "outputs": []
    }
  ]
}