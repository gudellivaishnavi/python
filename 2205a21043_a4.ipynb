{
  "nbformat": 4,
  "nbformat_minor": 0,
  "metadata": {
    "colab": {
      "provenance": [],
      "authorship_tag": "ABX9TyPP2Evrf1d7FMATUUocTK2j",
      "include_colab_link": true
    },
    "kernelspec": {
      "name": "python3",
      "display_name": "Python 3"
    },
    "language_info": {
      "name": "python"
    }
  },
  "cells": [
    {
      "cell_type": "markdown",
      "metadata": {
        "id": "view-in-github",
        "colab_type": "text"
      },
      "source": [
        "<a href=\"https://colab.research.google.com/github/gudellivaishnavi/python/blob/main/2205a21043_a4.ipynb\" target=\"_parent\"><img src=\"https://colab.research.google.com/assets/colab-badge.svg\" alt=\"Open In Colab\"/></a>"
      ]
    },
    {
      "cell_type": "code",
      "execution_count": null,
      "metadata": {
        "id": "_W4aSn-TV6dU"
      },
      "outputs": [],
      "source": []
    },
    {
      "cell_type": "code",
      "source": [
        "import datetime\n",
        "now=datetime.datetime.now()\n",
        "print(\"current date and time:\",now)\n",
        "formatted_now=now.strftime(\"%Y-%m-%d %H:%M:%S\")\n",
        "\n",
        "\n",
        "count=0\n",
        "pu=int(input(\"enter previous month units:\"))\n",
        "cu=int(input(\"enter current month units:\"))\n",
        "tc=int(input(\"enter type of customer 0;res 1;com 2;adv\"))\n",
        "u=cu-pu\n",
        "ed=0.06*u\n",
        "if(tc==0):\n",
        "  if(u<=100):\n",
        "    if(u<=50):\n",
        "       ec=1.95*u\n",
        "       fc=10\n",
        "       cc=40\n",
        "  else:\n",
        "        ec=3.10*u\n",
        "        fc=10\n",
        "        cc=70\n",
        "else:\n",
        "        if(u>100 and u<=200):\n",
        "           ec=100*3.14+(u-100)*4.8\n",
        "           fc=10\n",
        "           cc=90\n",
        "        else:\n",
        "            print(\"this application is not supported\")\n",
        "            count=count+1\n",
        "if(tc==1):\n",
        "  if(u<=50):\n",
        "    ec=7*u\n",
        "    fc=60\n",
        "    cc=50\n",
        "  else:\n",
        "    print(\"this application is not supported\")\n",
        "    count=count+1\n",
        "if(tc==2):\n",
        "  ec=13*u\n",
        "  fc=70\n",
        "  cc=160\n",
        "\n",
        "if(count==0):\n",
        "  bill_amount=ec+fc+cc+ed\n",
        "  print(\"----------------------\")\n",
        "  print(\"TGNPDCL\")\n",
        "  print(\"formatted date and time:\",formatted_now)\n",
        "  print(\"----------------------\")\n",
        "  print(\"previous units=\",pu)\n",
        "  print(\"present units=\",cu)\n",
        "  print(\"energy consumed=\",u)\n",
        "  print(\"energy charges=\",ec)\n",
        "  print(\"fixed charges=\",fc)\n",
        "  print(\"customer charges=\",cc)\n",
        "  print(\"electricity duty=\",ed)\n",
        "  print(\"bill_amount=\",bill_amount)\n",
        "  print(\"---------------------\")"
      ],
      "metadata": {
        "colab": {
          "base_uri": "https://localhost:8080/"
        },
        "id": "niCA0G6MV78H",
        "outputId": "3cc031cd-3c49-495e-f935-08e4d5b5c6d1"
      },
      "execution_count": 2,
      "outputs": [
        {
          "output_type": "stream",
          "name": "stdout",
          "text": [
            "current date and time: 2024-09-09 10:36:03.415167\n",
            "enter previous month units:7144\n",
            "enter current month units:7183\n",
            "enter type of customer 0;res 1;com 2;adv0\n",
            "----------------------\n",
            "TGNPDCL\n",
            "formatted date and time: 2024-09-09 10:36:03\n",
            "----------------------\n",
            "previous units= 7144\n",
            "present units= 7183\n",
            "energy consumed= 39\n",
            "energy charges= 76.05\n",
            "fixed charges= 10\n",
            "customer charges= 40\n",
            "electricity duty= 2.34\n",
            "bill_amount= 128.39\n",
            "---------------------\n"
          ]
        }
      ]
    }
  ]
}