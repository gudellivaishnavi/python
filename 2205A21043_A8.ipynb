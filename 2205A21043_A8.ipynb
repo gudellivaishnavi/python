{
  "nbformat": 4,
  "nbformat_minor": 0,
  "metadata": {
    "colab": {
      "provenance": [],
      "authorship_tag": "ABX9TyMe1bxIhiNEmO5cLb/GQpeR",
      "include_colab_link": true
    },
    "kernelspec": {
      "name": "python3",
      "display_name": "Python 3"
    },
    "language_info": {
      "name": "python"
    }
  },
  "cells": [
    {
      "cell_type": "markdown",
      "metadata": {
        "id": "view-in-github",
        "colab_type": "text"
      },
      "source": [
        "<a href=\"https://colab.research.google.com/github/gudellivaishnavi/python/blob/main/2205A21043_A8.ipynb\" target=\"_parent\"><img src=\"https://colab.research.google.com/assets/colab-badge.svg\" alt=\"Open In Colab\"/></a>"
      ]
    },
    {
      "cell_type": "code",
      "execution_count": 1,
      "metadata": {
        "colab": {
          "base_uri": "https://localhost:8080/"
        },
        "id": "ooZrFpwFBTc6",
        "outputId": "35aef3e3-0a9f-4a9e-b77b-fa30880b0697"
      },
      "outputs": [
        {
          "output_type": "stream",
          "name": "stdout",
          "text": [
            "Qualification= ['venkat', 'B.Tech', 2006, 'M.E.', 2011, 'Ph.D', 2018]\n",
            "Experience= ['SSCE', '2007', 'Infosys', '2011', 'AITAM', '2013', 'SREC', '2018']\n",
            "CA= ['venkat', 'B.Tech', 2006, 'M.E.', 2011, 'Ph.D', 2018, 'SSCE', '2007', 'Infosys', '2011', 'AITAM', '2013', 'SREC', '2018']\n"
          ]
        }
      ],
      "source": [
        "Qualification=['venkat', 'B.Tech', 2006, 'M.E.', 2011, 'Ph.D', 2018]\n",
        "Experience=['SSCE', '2007', 'Infosys', '2011', 'AITAM', '2013', 'SREC', '2018']\n",
        "CA=Qualification + Experience\n",
        "print(\"Qualification=\",Qualification)\n",
        "print(\"Experience=\",Experience)\n",
        "print(\"CA=\", CA)"
      ]
    },
    {
      "cell_type": "code",
      "source": [
        "Qualification = ['venkat', 'B.Tech', 2006, 'Μ.Ε', 2011, 'Ph.D', 2018]\n",
        "print(Qualification)\n",
        "print(Qualification[0])\n",
        "print(Qualification[1:])\n",
        "print(Qualification[1:5])\n",
        "print(Qualification *2)\n",
        "print(Qualification[::-1])"
      ],
      "metadata": {
        "colab": {
          "base_uri": "https://localhost:8080/"
        },
        "id": "0G-4XFvkBknW",
        "outputId": "2bad73da-5037-4eef-98cb-ae2711f09fe6"
      },
      "execution_count": 2,
      "outputs": [
        {
          "output_type": "stream",
          "name": "stdout",
          "text": [
            "['venkat', 'B.Tech', 2006, 'Μ.Ε', 2011, 'Ph.D', 2018]\n",
            "venkat\n",
            "['B.Tech', 2006, 'Μ.Ε', 2011, 'Ph.D', 2018]\n",
            "['B.Tech', 2006, 'Μ.Ε', 2011]\n",
            "['venkat', 'B.Tech', 2006, 'Μ.Ε', 2011, 'Ph.D', 2018, 'venkat', 'B.Tech', 2006, 'Μ.Ε', 2011, 'Ph.D', 2018]\n",
            "[2018, 'Ph.D', 2011, 'Μ.Ε', 2006, 'B.Tech', 'venkat']\n"
          ]
        }
      ]
    },
    {
      "cell_type": "code",
      "source": [
        "list=['venkat', '1985']\n",
        "print('Venkat birth year', list[1])\n",
        "list[0]='dev'\n",
        "list[1]=2017\n",
        "print('dev birth year', list[1])"
      ],
      "metadata": {
        "colab": {
          "base_uri": "https://localhost:8080/"
        },
        "id": "f7hn2d-nBmzU",
        "outputId": "0df99221-2c18-46d0-d48a-26cebdd561aa"
      },
      "execution_count": 3,
      "outputs": [
        {
          "output_type": "stream",
          "name": "stdout",
          "text": [
            "Venkat birth year 1985\n",
            "dev birth year 2017\n"
          ]
        }
      ]
    },
    {
      "cell_type": "code",
      "source": [
        "list=['venkat', '1985']\n",
        "print(list)\n",
        "del list[1]\n",
        "print(list)"
      ],
      "metadata": {
        "colab": {
          "base_uri": "https://localhost:8080/"
        },
        "id": "xi34rL8iBpL7",
        "outputId": "cc07060b-7eb1-4160-be90-80a137a4591a"
      },
      "execution_count": 4,
      "outputs": [
        {
          "output_type": "stream",
          "name": "stdout",
          "text": [
            "['venkat', '1985']\n",
            "['venkat']\n"
          ]
        }
      ]
    },
    {
      "cell_type": "code",
      "source": [
        "Name=['Ramana', 'Thanmai', 'Dev']\n",
        "DOB=[1985,2014,2017]\n",
        "print('Number of peoples',len(Name))\n",
        "print('==================')\n",
        "Details=Name+DOB\n",
        "print('Biodata', Details)\n",
        "print('===================')\n",
        "Repetition=Name*2\n",
        "print('Repetition', Repetition)\n",
        "print('====================')\n",
        "for x in Name:\n",
        "  print(x)\n",
        "print(\"=================\")"
      ],
      "metadata": {
        "colab": {
          "base_uri": "https://localhost:8080/"
        },
        "id": "He2C8dYuBp2a",
        "outputId": "e40e006b-542b-4280-f753-29ded4420b3f"
      },
      "execution_count": 5,
      "outputs": [
        {
          "output_type": "stream",
          "name": "stdout",
          "text": [
            "Number of peoples 3\n",
            "==================\n",
            "Biodata ['Ramana', 'Thanmai', 'Dev', 1985, 2014, 2017]\n",
            "===================\n",
            "Repetition ['Ramana', 'Thanmai', 'Dev', 'Ramana', 'Thanmai', 'Dev']\n",
            "====================\n",
            "Ramana\n",
            "Thanmai\n",
            "Dev\n",
            "=================\n"
          ]
        }
      ]
    },
    {
      "cell_type": "code",
      "source": [
        "Name =['Ramana', 'Thanmal', 'Dev']\n",
        "DOB=[1985,2014,2017]\n",
        "print('Name with maximum charecters', max(Name))\n",
        "print(\"Younger person DOB\", max(DOB))\n",
        "print(\"Name with minimum charecters\", min(Name))\n",
        "print('Older person DOB', min(DOB))"
      ],
      "metadata": {
        "colab": {
          "base_uri": "https://localhost:8080/"
        },
        "id": "HH4HKE29Bp5D",
        "outputId": "491b1e8a-08e8-4f0b-ed1c-c96a5c2ee05f"
      },
      "execution_count": 6,
      "outputs": [
        {
          "output_type": "stream",
          "name": "stdout",
          "text": [
            "Name with maximum charecters Thanmal\n",
            "Younger person DOB 2017\n",
            "Name with minimum charecters Dev\n",
            "Older person DOB 1985\n"
          ]
        }
      ]
    },
    {
      "cell_type": "code",
      "source": [
        "Students=['ram', 'venkat']\n",
        "print(Students)\n",
        "Students.append(\"Dev\")\n",
        "print(Students)"
      ],
      "metadata": {
        "colab": {
          "base_uri": "https://localhost:8080/"
        },
        "id": "SqJAvBiDBp7n",
        "outputId": "317c895e-107f-4759-b24a-3b39a596ac6b"
      },
      "execution_count": 7,
      "outputs": [
        {
          "output_type": "stream",
          "name": "stdout",
          "text": [
            "['ram', 'venkat']\n",
            "['ram', 'venkat', 'Dev']\n"
          ]
        }
      ]
    },
    {
      "cell_type": "code",
      "source": [
        "Grade=['A','A','B','C','A']\n",
        "print(\"How many peoples got a grade\",Grade.count('A'))"
      ],
      "metadata": {
        "colab": {
          "base_uri": "https://localhost:8080/"
        },
        "id": "VJfOJgu4Bp-U",
        "outputId": "fcf2b26c-785a-46ad-a751-a78eb577a9a5"
      },
      "execution_count": 8,
      "outputs": [
        {
          "output_type": "stream",
          "name": "stdout",
          "text": [
            "How many peoples got a grade 3\n"
          ]
        }
      ]
    },
    {
      "cell_type": "code",
      "source": [
        "Family=[\"Venkat\", \"Swetha\"]\n",
        "print('Family members', Family)\n",
        "atuple=(\"Dev\", \"Thanmai\")\n",
        "Family.extend(atuple)\n",
        "print('Family members', Family)"
      ],
      "metadata": {
        "colab": {
          "base_uri": "https://localhost:8080/"
        },
        "id": "8hvArfeXBqA0",
        "outputId": "9318f043-58de-41e2-fe6c-75541002a582"
      },
      "execution_count": 9,
      "outputs": [
        {
          "output_type": "stream",
          "name": "stdout",
          "text": [
            "Family members ['Venkat', 'Swetha']\n",
            "Family members ['Venkat', 'Swetha', 'Dev', 'Thanmai']\n"
          ]
        }
      ]
    },
    {
      "cell_type": "code",
      "source": [
        "Grade=['A','A','B','C','A','B']\n",
        "print(\"lowest index for grade B\",Grade.index(\"B\"))"
      ],
      "metadata": {
        "colab": {
          "base_uri": "https://localhost:8080/"
        },
        "id": "pMnaYI9gBqDO",
        "outputId": "ce70580e-6b23-48e0-f447-6b7ed9143a3b"
      },
      "execution_count": 10,
      "outputs": [
        {
          "output_type": "stream",
          "name": "stdout",
          "text": [
            "lowest index for grade B 2\n"
          ]
        }
      ]
    },
    {
      "cell_type": "code",
      "source": [
        "Family=[\"Ramana\", \"Swetha\", \"Thanmai\", \"Dev\"]\n",
        "print(\"Family members\", Family)\n",
        "Family.reverse()\n",
        "print(\"Family members\", Family)"
      ],
      "metadata": {
        "colab": {
          "base_uri": "https://localhost:8080/"
        },
        "id": "hMCiO2-7BqGA",
        "outputId": "8bcd7d61-f59c-4273-833e-f31e747d668a"
      },
      "execution_count": 11,
      "outputs": [
        {
          "output_type": "stream",
          "name": "stdout",
          "text": [
            "Family members ['Ramana', 'Swetha', 'Thanmai', 'Dev']\n",
            "Family members ['Dev', 'Thanmai', 'Swetha', 'Ramana']\n"
          ]
        }
      ]
    },
    {
      "cell_type": "code",
      "source": [
        "Family=[\"Ramana\", \"Swetha\", \"Thanmai\", \"Dev\"]\n",
        "print(\"Family members\", Family)\n",
        "Family.remove(\"Ramana\")\n",
        "print(\"Family members\", Family)"
      ],
      "metadata": {
        "colab": {
          "base_uri": "https://localhost:8080/"
        },
        "id": "ZXBAiSnnBqId",
        "outputId": "5b63e709-d582-4f6c-fafb-2f8c83355e77"
      },
      "execution_count": 12,
      "outputs": [
        {
          "output_type": "stream",
          "name": "stdout",
          "text": [
            "Family members ['Ramana', 'Swetha', 'Thanmai', 'Dev']\n",
            "Family members ['Swetha', 'Thanmai', 'Dev']\n"
          ]
        }
      ]
    },
    {
      "cell_type": "code",
      "source": [
        "Family=[\"Ramana\",\"Thanmai\", \"Dev\"]\n",
        "print(\"Family members\", Family)\n",
        "Family.insert(1,\"swetha\")\n",
        "print(\"Family members\", Family)"
      ],
      "metadata": {
        "colab": {
          "base_uri": "https://localhost:8080/"
        },
        "id": "vvsFavR8BqMA",
        "outputId": "083119c0-9434-4bfc-a140-c4f0f201ff02"
      },
      "execution_count": 13,
      "outputs": [
        {
          "output_type": "stream",
          "name": "stdout",
          "text": [
            "Family members ['Ramana', 'Thanmai', 'Dev']\n",
            "Family members ['Ramana', 'swetha', 'Thanmai', 'Dev']\n"
          ]
        }
      ]
    },
    {
      "cell_type": "code",
      "source": [
        "Family=[\"Ramana\", \"Swetha\", \"Thanmai\", \"Dev\"]\n",
        "print(\"Family members\", Family)\n",
        "Family.pop()\n",
        "print(\"Family members\", Family)\n",
        "Family.pop(2)\n",
        "print('Family members', Family)"
      ],
      "metadata": {
        "colab": {
          "base_uri": "https://localhost:8080/"
        },
        "id": "ILGRNkFBB5Ww",
        "outputId": "b6e2211d-8035-4ed5-e8c8-cb70aed8f78c"
      },
      "execution_count": 14,
      "outputs": [
        {
          "output_type": "stream",
          "name": "stdout",
          "text": [
            "Family members ['Ramana', 'Swetha', 'Thanmai', 'Dev']\n",
            "Family members ['Ramana', 'Swetha', 'Thanmai']\n",
            "Family members ['Ramana', 'Swetha']\n"
          ]
        }
      ]
    },
    {
      "cell_type": "code",
      "source": [
        "tuple=('venkat','B.tech',2006)\n",
        "print(tuple)\n",
        "print(tuple[0])\n",
        "print(tuple[0:2])\n",
        "print(tuple[0:])\n",
        "print(tuple[::-1])\n",
        "print(tuple[2:0:-1])"
      ],
      "metadata": {
        "colab": {
          "base_uri": "https://localhost:8080/"
        },
        "id": "8wNHP1JtB5Zb",
        "outputId": "7e78bf75-25de-413d-9ada-28f3d04c48b9"
      },
      "execution_count": 15,
      "outputs": [
        {
          "output_type": "stream",
          "name": "stdout",
          "text": [
            "('venkat', 'B.tech', 2006)\n",
            "venkat\n",
            "('venkat', 'B.tech')\n",
            "('venkat', 'B.tech', 2006)\n",
            "(2006, 'B.tech', 'venkat')\n",
            "(2006, 'B.tech')\n"
          ]
        }
      ]
    },
    {
      "cell_type": "code",
      "source": [
        "tuple=('venkat','B.tech',2006)\n",
        "pgtuple=('M.E','2011')\n",
        "\n",
        "print(tuple*2)\n",
        "print(tuple + pgtuple)\n",
        "\n",
        "List=['venkat','Ph.D','2018']\n",
        "print(List)\n",
        "\n",
        "List[0]='Ramana'\n",
        "print(List)"
      ],
      "metadata": {
        "colab": {
          "base_uri": "https://localhost:8080/"
        },
        "id": "mSianndmB5cU",
        "outputId": "b4208063-db50-4359-cb40-0d01010aa2ee"
      },
      "execution_count": 16,
      "outputs": [
        {
          "output_type": "stream",
          "name": "stdout",
          "text": [
            "('venkat', 'B.tech', 2006, 'venkat', 'B.tech', 2006)\n",
            "('venkat', 'B.tech', 2006, 'M.E', '2011')\n",
            "['venkat', 'Ph.D', '2018']\n",
            "['Ramana', 'Ph.D', '2018']\n"
          ]
        }
      ]
    },
    {
      "cell_type": "code",
      "source": [
        "tiny={'Name':'venkat','Marks':891}\n",
        "print(tiny)\n",
        "print(tiny['Name'])\n",
        "print(tiny['Marks'])\n",
        "tiny['Name']='ramana'\n",
        "print(tiny)"
      ],
      "metadata": {
        "colab": {
          "base_uri": "https://localhost:8080/"
        },
        "id": "v5uQkIyFB5f7",
        "outputId": "ea6e9ed7-9b3c-4dea-9e84-548f21e1273e"
      },
      "execution_count": 17,
      "outputs": [
        {
          "output_type": "stream",
          "name": "stdout",
          "text": [
            "{'Name': 'venkat', 'Marks': 891}\n",
            "venkat\n",
            "891\n",
            "{'Name': 'ramana', 'Marks': 891}\n"
          ]
        }
      ]
    },
    {
      "cell_type": "code",
      "source": [
        "dict={}\n",
        "print(dict)\n",
        "dict['one']='this is one'\n",
        "print(dict)\n",
        "dict['2']='this is two'\n",
        "print(dict)\n",
        "print(dict.keys())\n",
        "print(dict.values())"
      ],
      "metadata": {
        "colab": {
          "base_uri": "https://localhost:8080/"
        },
        "id": "177rymWCCFjV",
        "outputId": "7bf97b30-a510-4838-a6f5-cb8d93f40c8a"
      },
      "execution_count": 18,
      "outputs": [
        {
          "output_type": "stream",
          "name": "stdout",
          "text": [
            "{}\n",
            "{'one': 'this is one'}\n",
            "{'one': 'this is one', '2': 'this is two'}\n",
            "dict_keys(['one', '2'])\n",
            "dict_values(['this is one', 'this is two'])\n"
          ]
        }
      ]
    },
    {
      "cell_type": "code",
      "source": [
        "thisset={\"apple\", \"banana\", \"cherry\"}\n",
        "mylist = [\"kiwi\", \"orange\"]\n",
        "mylist_2=(2,3)\n",
        "mylist_3={\"Name\": \"Venkat\", \"School\": \"SRU\"}\n",
        "\n",
        "thisset.update(mylist)\n",
        "thisset.update(mylist_2)\n",
        "thisset.update(mylist_3)\n",
        "\n",
        "print(thisset)"
      ],
      "metadata": {
        "colab": {
          "base_uri": "https://localhost:8080/"
        },
        "id": "yZ-K0eG-CFmv",
        "outputId": "ee548d24-5726-462d-ab30-fbd58af60e1d"
      },
      "execution_count": 19,
      "outputs": [
        {
          "output_type": "stream",
          "name": "stdout",
          "text": [
            "{2, 'banana', 3, 'School', 'kiwi', 'orange', 'Name', 'apple', 'cherry'}\n"
          ]
        }
      ]
    },
    {
      "cell_type": "code",
      "source": [
        "thisset={\"apple\", \"banana\", \"Cherry\"}\n",
        "tropical={\"pineapple\", \"mango\", \"papaya\"}\n",
        "\n",
        "thisset.update(tropical)\n",
        "\n",
        "print(thisset)"
      ],
      "metadata": {
        "colab": {
          "base_uri": "https://localhost:8080/"
        },
        "id": "mGkkrrD2CKCM",
        "outputId": "7408c164-4100-4334-f6ff-719cab6b9b29"
      },
      "execution_count": 20,
      "outputs": [
        {
          "output_type": "stream",
          "name": "stdout",
          "text": [
            "{'papaya', 'mango', 'banana', 'apple', 'pineapple', 'Cherry'}\n"
          ]
        }
      ]
    },
    {
      "cell_type": "code",
      "source": [
        "thisset={\"apple\", \"banana\", \"cherry\"}\n",
        "\n",
        "\n",
        "for x in thisset:\n",
        "    print(x)"
      ],
      "metadata": {
        "colab": {
          "base_uri": "https://localhost:8080/"
        },
        "id": "XjSgGNeaCKFm",
        "outputId": "4b106efe-7098-4a5e-88f8-1d1e3d55ad75"
      },
      "execution_count": 21,
      "outputs": [
        {
          "output_type": "stream",
          "name": "stdout",
          "text": [
            "cherry\n",
            "banana\n",
            "apple\n"
          ]
        }
      ]
    }
  ]
}