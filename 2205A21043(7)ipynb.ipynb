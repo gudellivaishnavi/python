{
  "nbformat": 4,
  "nbformat_minor": 0,
  "metadata": {
    "colab": {
      "provenance": [],
      "authorship_tag": "ABX9TyMyeQI/wx/+/wlTn5y1UyIK",
      "include_colab_link": true
    },
    "kernelspec": {
      "name": "python3",
      "display_name": "Python 3"
    },
    "language_info": {
      "name": "python"
    }
  },
  "cells": [
    {
      "cell_type": "markdown",
      "metadata": {
        "id": "view-in-github",
        "colab_type": "text"
      },
      "source": [
        "<a href=\"https://colab.research.google.com/github/gudellivaishnavi/python/blob/main/2205A21043(7)ipynb.ipynb\" target=\"_parent\"><img src=\"https://colab.research.google.com/assets/colab-badge.svg\" alt=\"Open In Colab\"/></a>"
      ]
    },
    {
      "cell_type": "code",
      "execution_count": null,
      "metadata": {
        "id": "Qx-685xVnMqX"
      },
      "outputs": [],
      "source": [
        ""
      ]
    },
    {
      "cell_type": "code",
      "source": [
        "import math as mt\n",
        "vr=float(input(\"enter receving end voltage\"))\n",
        "r=float(input(\"enter resistance per phase per km\"))\n",
        "l=float(input(\"enter inductance per phase per km\"))\n",
        "length=float(input(\"enter length of tline\"))\n",
        "pf=float(input(\"enter power factor\"))\n",
        "load=float(input(\"enter aperent power\"))\n",
        "type_pf=int(input(\"0:leading,1:lagging\"))\n",
        "vr_phase=vr/mt.sqrt(3)\n",
        "R=r*length\n",
        "L=l*length\n",
        "X=2*3.14*50*L\n",
        "z=complex(R,X)\n",
        "P=load*pf\n",
        "Q=load*mt.sqrt(1-pf**2)\n",
        "if(type_pf==0):\n",
        "  S=complex(P,Q)\n",
        "else:\n",
        "  S=complex(P,-Q)\n",
        "S=complex(P,Q)\n",
        "IR=(S.conjugate())/(3*vr_phase)\n",
        "VS=vr_phase+z*IR\n",
        "voltage_regulation=(abs(VS)-vr_phase)*100/vr_phase\n",
        "print(\"voltage_regulation=\",voltage_regulation)\n",
        "Ssend=3*VS*IR.conjugate()\n",
        "print(Ssend)\n",
        "Psend=Ssend.real\n",
        "print(\"Sending power:\",Psend)\n",
        "eff=P*100/Psend\n",
        "print(\"Efficiency:\",eff)\n",
        "\n"
      ],
      "metadata": {
        "colab": {
          "base_uri": "https://localhost:8080/"
        },
        "id": "1cYAKEyNrG2m",
        "outputId": "6a020376-0356-45ac-9deb-26c99e1dacc8"
      },
      "execution_count": 2,
      "outputs": [
        {
          "output_type": "stream",
          "name": "stdout",
          "text": [
            "enter receving end voltage220000\n",
            "enter resistance per phase per km0.15\n",
            "enter inductance per phase per km1.3263\n",
            "enter length of tline40\n",
            "enter power factor0.8\n",
            "enter aperent power0.8\n",
            "0:leading,1:lagging1\n",
            "voltage_regulation= 1.6528592178018347e-05\n",
            "(0.6400000000793389+0.4800002202754114j)\n",
            "Sending power: 0.6400000000793389\n",
            "Efficiency: 99.99999998760332\n"
          ]
        }
      ]
    },
    {
      "cell_type": "code",
      "source": [],
      "metadata": {
        "id": "2EY00FieteZF"
      },
      "execution_count": null,
      "outputs": []
    }
  ]
}